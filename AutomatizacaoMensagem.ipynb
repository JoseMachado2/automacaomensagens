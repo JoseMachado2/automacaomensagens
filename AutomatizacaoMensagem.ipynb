{
 "cells": [
  {
   "cell_type": "code",
   "execution_count": 4,
   "id": "77af3569",
   "metadata": {},
   "outputs": [
    {
     "data": {
      "text/html": [
       "<div>\n",
       "<style scoped>\n",
       "    .dataframe tbody tr th:only-of-type {\n",
       "        vertical-align: middle;\n",
       "    }\n",
       "\n",
       "    .dataframe tbody tr th {\n",
       "        vertical-align: top;\n",
       "    }\n",
       "\n",
       "    .dataframe thead th {\n",
       "        text-align: right;\n",
       "    }\n",
       "</style>\n",
       "<table border=\"1\" class=\"dataframe\">\n",
       "  <thead>\n",
       "    <tr style=\"text-align: right;\">\n",
       "      <th></th>\n",
       "      <th>nome</th>\n",
       "      <th>telefone</th>\n",
       "    </tr>\n",
       "  </thead>\n",
       "  <tbody>\n",
       "    <tr>\n",
       "      <th>0</th>\n",
       "      <td>rita</td>\n",
       "      <td>5581998264829</td>\n",
       "    </tr>\n",
       "    <tr>\n",
       "      <th>1</th>\n",
       "      <td>eduarda</td>\n",
       "      <td>5581995617666</td>\n",
       "    </tr>\n",
       "    <tr>\n",
       "      <th>2</th>\n",
       "      <td>gabi</td>\n",
       "      <td>5581981079651</td>\n",
       "    </tr>\n",
       "    <tr>\n",
       "      <th>3</th>\n",
       "      <td>jose</td>\n",
       "      <td>5581999867612</td>\n",
       "    </tr>\n",
       "  </tbody>\n",
       "</table>\n",
       "</div>"
      ],
      "text/plain": [
       "      nome       telefone\n",
       "0     rita  5581998264829\n",
       "1  eduarda  5581995617666\n",
       "2     gabi  5581981079651\n",
       "3     jose  5581999867612"
      ]
     },
     "metadata": {},
     "output_type": "display_data"
    }
   ],
   "source": [
    "import pandas as pd\n",
    "import pyautogui\n",
    "import time\n",
    "\n",
    "\n",
    "tabela = pd.read_csv(r\"C:\\Users\\Jose\\Downloads\\p1.csv\" , sep=\",\")\n",
    "display(tabela)\n"
   ]
  },
  {
   "cell_type": "code",
   "execution_count": 5,
   "id": "0a5feb39",
   "metadata": {
    "scrolled": true
   },
   "outputs": [
    {
     "name": "stdout",
     "output_type": "stream",
     "text": [
      "Enviado com sucesso para rita\n",
      "Enviado com sucesso para eduarda\n",
      "Enviado com sucesso para gabi\n",
      "Enviado com sucesso para jose\n"
     ]
    }
   ],
   "source": [
    "\n",
    "import time\n",
    "import pyautogui\n",
    "import pyperclip\n",
    "\n",
    "\n",
    "for linha in tabela.index:\n",
    "    telefone = tabela.loc[linha, \"telefone\"]\n",
    "    nome = tabela.loc[linha, \"nome\"]\n",
    "    time.sleep(2)\n",
    "    pyautogui.hotkey('ctrl' , 'n')\n",
    "    pyperclip.copy(f\"https://api.whatsapp.com/send/?phone={telefone}&text&type=phone_number&app_absent=0\")\n",
    "    pyautogui.hotkey('ctrl','v')\n",
    "    pyautogui.press(\"enter\")\n",
    "    time.sleep(3)\n",
    "    pyautogui.click(x=691, y=311)\n",
    "    time.sleep(3)\n",
    "    pyautogui.click(x=688, y=389)\n",
    "    texto = f\"\"\"\n",
    "    (Mensagem de teste)\n",
    "    Olá {nome.capitalize()}, sabia que agora a P1 Tecnologia está de casa nova?\n",
    "    Agora estamos na Av. Caxangá, 205, 1º Andar Sala 107!\n",
    "    https://goo.gl/maps/NTUKE2ohfuSW3X6j8\n",
    "    \"\"\"\n",
    "    pyperclip.copy(texto)\n",
    "    time.sleep(15)\n",
    "    pyautogui.click(x=624, y=695)\n",
    "    pyautogui.hotkey('ctrl' , 'v')\n",
    "    time.sleep(2)\n",
    "    pyautogui.press('enter')\n",
    "    time.sleep(3)\n",
    "    pyautogui.hotkey('alt' , 'f4')\n",
    "    print(f\"Enviado com sucesso para {nome}\")"
   ]
  },
  {
   "cell_type": "code",
   "execution_count": 40,
   "id": "516d1893",
   "metadata": {},
   "outputs": [
    {
     "name": "stdout",
     "output_type": "stream",
     "text": [
      "Point(x=514, y=0)\n"
     ]
    }
   ],
   "source": [
    "time.sleep(5)\n",
    "print(pyautogui.position())"
   ]
  },
  {
   "cell_type": "code",
   "execution_count": null,
   "id": "8e962355",
   "metadata": {},
   "outputs": [],
   "source": []
  },
  {
   "cell_type": "code",
   "execution_count": null,
   "id": "a8ebcb72",
   "metadata": {},
   "outputs": [],
   "source": []
  }
 ],
 "metadata": {
  "kernelspec": {
   "display_name": "Python 3 (ipykernel)",
   "language": "python",
   "name": "python3"
  },
  "language_info": {
   "codemirror_mode": {
    "name": "ipython",
    "version": 3
   },
   "file_extension": ".py",
   "mimetype": "text/x-python",
   "name": "python",
   "nbconvert_exporter": "python",
   "pygments_lexer": "ipython3",
   "version": "3.9.13"
  }
 },
 "nbformat": 4,
 "nbformat_minor": 5
}
